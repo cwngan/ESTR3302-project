{
 "cells": [
  {
   "cell_type": "code",
   "execution_count": 1,
   "id": "bb430770",
   "metadata": {},
   "outputs": [],
   "source": [
    "sample_user_ratings = [\n",
    "    [5, 4, 5, 3, 3],\n",
    "    [3, 2, 2, 4, 1],\n",
    "    [3, 4, 3, 5, 4],\n",
    "    [5, 1, 4, 2, 4],\n",
    "    [2, 3, 4, 1, 1],\n",
    "    [2, 3, 4, 2, 5],\n",
    "]\n",
    "\n",
    "sample_test_set = [\n",
    "    (0, 0),\n",
    "    (0, 3),\n",
    "    (1, 1),\n",
    "    (1, 4),\n",
    "    (2, 0),\n",
    "    (2, 4),\n",
    "    (3, 2),\n",
    "    (4, 1),\n",
    "    (4, 3),\n",
    "    (5, 0),\n",
    "]"
   ]
  },
  {
   "cell_type": "code",
   "execution_count": 2,
   "id": "d794450f",
   "metadata": {},
   "outputs": [],
   "source": [
    "sample_user_ratings = [\n",
    "    [5, 4, 4, -1, 5],\n",
    "    [-1, 3, 5, 3, 4],\n",
    "    [5, 2, -1, 2, 3],\n",
    "    [-1, 2, 3, 1, 2],\n",
    "    [4, -1, 5, 4, 5],\n",
    "    [5, 3, -1, 3, 5],\n",
    "    [3, 2, 3, 2, -1],\n",
    "    [5, 3, 4, -1, 5],\n",
    "    [4, 2, 5, 4, -1],\n",
    "    [5, -1, 5, 3, 4]\n",
    "]\n",
    "sample_test_set = [(0, 4), (1, 3), (2, 3), (3, 1), (4, 2),\n",
    "                   (5, 0), (6, 1), (7, 1), (8, 0), (9, 0)]"
   ]
  },
  {
   "cell_type": "code",
   "execution_count": 3,
   "id": "0fa88af9",
   "metadata": {},
   "outputs": [
    {
     "name": "stdout",
     "output_type": "stream",
     "text": [
      "test_predictions = [np.float64(4.550984114412831), np.float64(3.442937982876895), np.float64(2.794304063710544), np.float64(1.0), np.float64(4.730328993547393), np.float64(4.770013162461968), np.float64(1.4435901764645134), np.float64(3.009078525461569), np.float64(4.6914534243277615), np.float64(4.563946226927465)]\n",
      "all_predictions = array([[4.9143635 , 3.13658572, 4.80630326, 3.63882125, 4.55098411],\n",
      "       [4.71848023, 2.94070246, 4.61042   , 3.44293798, 4.35510085],\n",
      "       [4.06984632, 2.29206854, 3.96178608, 2.79430406, 3.70646693],\n",
      "       [2.71779238, 1.        , 2.60973214, 1.44225013, 2.35441299],\n",
      "       [4.83838923, 3.06061145, 4.73032899, 3.56284698, 4.47500984],\n",
      "       [4.77001316, 2.99223538, 4.66195293, 3.49447091, 4.40663378],\n",
      "       [3.22136795, 1.44359018, 3.11330772, 1.9458257 , 2.85798857],\n",
      "       [4.7868563 , 3.00907853, 4.67879607, 3.51131405, 4.42347692],\n",
      "       [4.69145342, 2.91367565, 4.58339319, 3.41591117, 4.32807404],\n",
      "       [4.56394623, 2.78616845, 4.45588599, 3.28840397, 4.20056684]])\n",
      "rmse_training = np.float64(0.517880749835146)\n",
      "rmse_test = np.float64(0.5596668390525208)\n"
     ]
    }
   ],
   "source": [
    "from predictors.least_squares import LeastSquaresPredictor\n",
    "from utils import get_test_set_matrix, remove_test_set, root_mean_square_error\n",
    "\n",
    "\n",
    "training_data = remove_test_set(sample_user_ratings, sample_test_set)\n",
    "test_data = get_test_set_matrix(sample_user_ratings, sample_test_set)\n",
    "baseline = LeastSquaresPredictor(training_data=training_data, lmda=0.25)\n",
    "baseline.train()\n",
    "test_predictions = baseline.predict(sample_test_set)\n",
    "all_predictions = baseline.predict_all()\n",
    "rmse_training = root_mean_square_error(all_predictions, training_data)\n",
    "rmse_test = root_mean_square_error(all_predictions, test_data)\n",
    "print(f\"{test_predictions = }\")\n",
    "print(f\"{all_predictions = }\")\n",
    "print(f\"{rmse_training = }\")\n",
    "print(f\"{rmse_test = }\")"
   ]
  },
  {
   "cell_type": "code",
   "execution_count": null,
   "id": "5af6f25e",
   "metadata": {},
   "outputs": [
    {
     "name": "stdout",
     "output_type": "stream",
     "text": [
      "test_predictions = [np.float64(5.0), np.float64(3.383640439962396), np.float64(1.8641503794074703), np.float64(1.0), np.float64(4.205338838158616), np.float64(5.0), np.float64(1.5568978934161615), np.float64(3.6878745914102726), np.float64(4.1073645966691394), np.float64(4.852350201868546)]\n",
      "all_predictions = array([[5.        , 3.94288899, 3.94288899, 3.55318475, 5.        ],\n",
      "       [5.        , 2.55112245, 4.96552085, 3.38364044, 3.96552085],\n",
      "       [4.77631325, 1.58560161, 4.66825301, 1.86415038, 2.77631325],\n",
      "       [3.16004251, 1.        , 2.96414514, 1.08783713, 1.96414514],\n",
      "       [4.40123621, 2.62345843, 4.20533884, 4.40123621, 5.        ],\n",
      "       [5.        , 3.4867063 , 4.0685867 , 3.4867063 , 4.41439839],\n",
      "       [3.16719366, 1.55689789, 3.33467567, 2.16719366, 2.97129628],\n",
      "       [4.21033322, 3.68787459, 4.10227298, 3.29817035, 5.        ],\n",
      "       [4.1073646 , 2.49706883, 5.        , 4.32958682, 3.91146723],\n",
      "       [4.8523502 , 2.24205444, 4.65645283, 3.08783713, 3.65645283]])\n"
     ]
    }
   ],
   "source": [
    "import numpy as np\n",
    "from predictors.neighbor_correlations import Correlation, NeighborCorrelationsPredictor\n",
    "from utils.neighbor_selection import most_similar, two_most_similar_skip_masked\n",
    "\n",
    "# baseline.prediction = np.array(\n",
    "#     [\n",
    "#         [np.nan, 2.7, 3.3, np.nan, 4.5],\n",
    "#         [4.1, np.nan, 3.5, 4.9, np.nan],\n",
    "#         [np.nan, 3.8, 2.5, 4.2, np.nan],\n",
    "#         [2.8, 3.1, np.nan, 2.6, 4.8],\n",
    "#         [3.3, np.nan, 3.7, np.nan, 2.4],\n",
    "#         [np.nan, 3.9, 4.0, 1.5, 3.9],\n",
    "#     ]\n",
    "# )\n",
    "\n",
    "improved = NeighborCorrelationsPredictor(baseline=baseline, correlation=Correlation.ITEM)\n",
    "improved.train(most_similar)\n",
    "test_predictions = improved.predict(sample_test_set)\n",
    "all_predictions = improved.predict_all()\n",
    "print(f\"{test_predictions = }\")\n",
    "print(f\"{all_predictions = }\")"
   ]
  },
  {
   "cell_type": "code",
   "execution_count": 5,
   "id": "ddd8b26a",
   "metadata": {},
   "outputs": [
    {
     "name": "stdout",
     "output_type": "stream",
     "text": [
      "all_predictions = array([[2.73402602, 4.48879132, 4.30697551, 3.2186042 , 1.96912014,\n",
      "        2.81803155],\n",
      "       [2.83475932, 2.56022117, 2.90042499, 3.28621128, 2.69179878,\n",
      "        1.50348167],\n",
      "       [3.74631254, 3.7619743 , 4.11600953, 4.3521493 , 3.43987108,\n",
      "        2.24331636],\n",
      "       [3.38052349, 4.72745277, 4.71039242, 3.9596552 , 2.69019862,\n",
      "        2.9270728 ],\n",
      "       [2.17435686, 1.27615303, 1.71072411, 2.50389476, 2.27819342,\n",
      "        0.68744758],\n",
      "       [3.24193673, 4.89639618, 4.78844221, 3.80615816, 2.46728672,\n",
      "        3.05278956],\n",
      "       [2.65612574, 4.34602767, 4.1731457 , 3.12653497, 1.9176295 ,\n",
      "        2.7276686 ],\n",
      "       [1.77062656, 3.13429637, 2.95917071, 2.08998444, 1.20470111,\n",
      "        1.97895441]])\n",
      "latent.p = array([[ 0.88963584,  1.50009581,  1.87805526,  1.32698965,  1.34032657,\n",
      "         1.17251361,  0.86838852,  0.51346081],\n",
      "       [ 1.58503227,  0.41031614,  0.76514332,  1.47530906, -0.09021009,\n",
      "         1.62844766,  1.53111621,  1.16032704]])\n",
      "latent.q = array([[1.6750748 , 1.10113009, 1.40611625, 1.93181639, 1.71842827,\n",
      "        0.6095307 ],\n",
      "       [0.78472816, 2.21395275, 1.92806429, 0.94634736, 0.27781439,\n",
      "        1.43578856]])\n"
     ]
    }
   ],
   "source": [
    "import numpy as np\n",
    "from predictors.latent_factor import LatentFactorPredictor\n",
    "\n",
    "sample_user_ratings = [\n",
    "    [3, 4, 5, 3, 2, 3],\n",
    "    [3, 2, 3, 4, 2, 1],\n",
    "    [4, 4, 4, 5, 3, 2],\n",
    "    [3, 5, 4, 4, 3, 4],\n",
    "    [2, 1, 2, 2, 3, 1],\n",
    "    [3, 5, 5, 4, 4, 3],\n",
    "    [3, 5, 5, 3, 2, 2],\n",
    "    [2, 3, 3, 2, 1, 2],\n",
    "]\n",
    "sample_test_set = [\n",
    "    (0, 0),\n",
    "    (1, 1),\n",
    "    (2, 3),\n",
    "    (2, 4),\n",
    "    (3, 0),\n",
    "    (3, 1),\n",
    "    (5, 1),\n",
    "    (5, 4),\n",
    "    (6, 0),\n",
    "    (6, 2),\n",
    "    (7, 1),\n",
    "    (7, 3),\n",
    "]\n",
    "training_data = remove_test_set(sample_user_ratings, sample_test_set)\n",
    "test_data = get_test_set_matrix(sample_user_ratings, sample_test_set)\n",
    "u, i = training_data.shape\n",
    "k = 2\n",
    "latent = LatentFactorPredictor(\n",
    "    training_data=training_data,\n",
    "    k=k,\n",
    "    p=np.full((k, u), 1, dtype=np.float64),\n",
    "    q=np.full((k, i), 1, dtype=np.float64),\n",
    "    lmda=0.2,\n",
    ")\n",
    "latent.train(20)\n",
    "all_predictions = latent.predict_all()\n",
    "test_predictions = latent.predict(sample_test_set)\n",
    "print(f\"{all_predictions = }\")\n",
    "print(f\"{latent.p = }\")\n",
    "print(f\"{latent.q = }\")"
   ]
  },
  {
   "cell_type": "code",
   "execution_count": 6,
   "id": "9695964a",
   "metadata": {},
   "outputs": [
    {
     "name": "stdout",
     "output_type": "stream",
     "text": [
      "rmse_training = np.float64(0.41866703529954136)\n",
      "rmse_test = np.float64(0.6058658494466402)\n"
     ]
    }
   ],
   "source": [
    "rmse_training = root_mean_square_error(all_predictions, training_data)\n",
    "rmse_test = root_mean_square_error(all_predictions, test_data)\n",
    "print(f\"{rmse_training = }\")\n",
    "print(f\"{rmse_test = }\")"
   ]
  }
 ],
 "metadata": {
  "kernelspec": {
   "display_name": ".venv",
   "language": "python",
   "name": "python3"
  },
  "language_info": {
   "codemirror_mode": {
    "name": "ipython",
    "version": 3
   },
   "file_extension": ".py",
   "mimetype": "text/x-python",
   "name": "python",
   "nbconvert_exporter": "python",
   "pygments_lexer": "ipython3",
   "version": "3.12.3"
  }
 },
 "nbformat": 4,
 "nbformat_minor": 5
}
