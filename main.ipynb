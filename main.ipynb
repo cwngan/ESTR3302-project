{
 "cells": [
  {
   "cell_type": "code",
   "execution_count": 1,
   "id": "bb430770",
   "metadata": {},
   "outputs": [],
   "source": [
    "sample_user_ratings = [\n",
    "    [5, 4, 5, 3, 3],\n",
    "    [3, 2, 2, 4, 1],\n",
    "    [3, 4, 3, 5, 4],\n",
    "    [5, 1, 4, 2, 4],\n",
    "    [2, 3, 4, 1, 1],\n",
    "    [2, 3, 4, 2, 5],\n",
    "]\n",
    "\n",
    "sample_test_set = [\n",
    "    (0, 0),\n",
    "    (0, 3),\n",
    "    (1, 1),\n",
    "    (1, 4),\n",
    "    (2, 0),\n",
    "    (2, 4),\n",
    "    (3, 2),\n",
    "    (4, 1),\n",
    "    (4, 3),\n",
    "    (5, 0),\n",
    "]"
   ]
  },
  {
   "cell_type": "code",
   "execution_count": 2,
   "id": "d794450f",
   "metadata": {},
   "outputs": [],
   "source": [
    "sample_user_ratings = [\n",
    "    [5, 4, 4, -1, 5],\n",
    "    [-1, 3, 5, 3, 4],\n",
    "    [5, 2, -1, 2, 3],\n",
    "    [-1, 2, 3, 1, 2],\n",
    "    [4, -1, 5, 4, 5],\n",
    "    [5, 3, -1, 3, 5],\n",
    "    [3, 2, 3, 2, -1],\n",
    "    [5, 3, 4, -1, 5],\n",
    "    [4, 2, 5, 4, -1],\n",
    "    [5, -1, 5, 3, 4]\n",
    "]\n",
    "sample_test_set = [(0, 4), (1, 3), (2, 3), (3, 1), (4, 2),\n",
    "                   (5, 0), (6, 1), (7, 1), (8, 0), (9, 0)]"
   ]
  },
  {
   "cell_type": "code",
   "execution_count": 3,
   "id": "0fa88af9",
   "metadata": {},
   "outputs": [
    {
     "ename": "AttributeError",
     "evalue": "module 'numpy' has no attribute 'float128'",
     "output_type": "error",
     "traceback": [
      "\u001b[31m---------------------------------------------------------------------------\u001b[39m",
      "\u001b[31mAttributeError\u001b[39m                            Traceback (most recent call last)",
      "\u001b[36mCell\u001b[39m\u001b[36m \u001b[39m\u001b[32mIn[3]\u001b[39m\u001b[32m, line 5\u001b[39m\n\u001b[32m      1\u001b[39m \u001b[38;5;28;01mfrom\u001b[39;00m\u001b[38;5;250m \u001b[39m\u001b[34;01mpredictors\u001b[39;00m\u001b[34;01m.\u001b[39;00m\u001b[34;01mleast_squares\u001b[39;00m\u001b[38;5;250m \u001b[39m\u001b[38;5;28;01mimport\u001b[39;00m LeastSquaresPredictor\n\u001b[32m      2\u001b[39m \u001b[38;5;28;01mfrom\u001b[39;00m\u001b[38;5;250m \u001b[39m\u001b[34;01mutils\u001b[39;00m\u001b[38;5;250m \u001b[39m\u001b[38;5;28;01mimport\u001b[39;00m get_test_set_matrix, remove_test_set, root_mean_square_error\n\u001b[32m----> \u001b[39m\u001b[32m5\u001b[39m training_data = \u001b[43mremove_test_set\u001b[49m\u001b[43m(\u001b[49m\u001b[43msample_user_ratings\u001b[49m\u001b[43m,\u001b[49m\u001b[43m \u001b[49m\u001b[43msample_test_set\u001b[49m\u001b[43m)\u001b[49m\n\u001b[32m      6\u001b[39m test_data = get_test_set_matrix(sample_user_ratings, sample_test_set)\n\u001b[32m      7\u001b[39m baseline = LeastSquaresPredictor(training_data=training_data, lmda=\u001b[32m0\u001b[39m)\n",
      "\u001b[36mFile \u001b[39m\u001b[32m~/ESTR3302-project/utils/__init__.py:33\u001b[39m, in \u001b[36mremove_test_set\u001b[39m\u001b[34m(training_data, test_set)\u001b[39m\n\u001b[32m     29\u001b[39m \u001b[38;5;28;01mdef\u001b[39;00m\u001b[38;5;250m \u001b[39m\u001b[34mremove_test_set\u001b[39m(training_data: Any, test_set: \u001b[38;5;28mlist\u001b[39m[\u001b[38;5;28mtuple\u001b[39m[\u001b[38;5;28mint\u001b[39m]]):\n\u001b[32m     30\u001b[39m \u001b[38;5;250m    \u001b[39m\u001b[33;03m\"\"\"\u001b[39;00m\n\u001b[32m     31\u001b[39m \u001b[33;03m    Returns a copy of the training set with items in test set set to -1.\u001b[39;00m\n\u001b[32m     32\u001b[39m \u001b[33;03m    \"\"\"\u001b[39;00m\n\u001b[32m---> \u001b[39m\u001b[32m33\u001b[39m     res = \u001b[43mmask_unknown_values\u001b[49m\u001b[43m(\u001b[49m\u001b[43mtraining_data\u001b[49m\u001b[43m)\u001b[49m\n\u001b[32m     34\u001b[39m     \u001b[38;5;28;01mreturn\u001b[39;00m np.ma.masked_array(res, get_test_set_mask(test_set, res.shape))\n",
      "\u001b[36mFile \u001b[39m\u001b[32m~/ESTR3302-project/utils/__init__.py:6\u001b[39m, in \u001b[36mmask_unknown_values\u001b[39m\u001b[34m(training_data)\u001b[39m\n\u001b[32m      5\u001b[39m \u001b[38;5;28;01mdef\u001b[39;00m\u001b[38;5;250m \u001b[39m\u001b[34mmask_unknown_values\u001b[39m(training_data: Any):\n\u001b[32m----> \u001b[39m\u001b[32m6\u001b[39m     res = np.array(training_data, dtype=\u001b[43mnp\u001b[49m\u001b[43m.\u001b[49m\u001b[43mfloat128\u001b[49m)\n\u001b[32m      7\u001b[39m     mask = np.less(training_data, \u001b[32m0\u001b[39m)\n\u001b[32m      8\u001b[39m     \u001b[38;5;28;01mreturn\u001b[39;00m np.ma.masked_array(res, np.ma.make_mask(mask))\n",
      "\u001b[36mFile \u001b[39m\u001b[32m~/ESTR3302-project/.venv/lib/python3.12/site-packages/numpy/__init__.py:414\u001b[39m, in \u001b[36m__getattr__\u001b[39m\u001b[34m(attr)\u001b[39m\n\u001b[32m    411\u001b[39m     \u001b[38;5;28;01mimport\u001b[39;00m\u001b[38;5;250m \u001b[39m\u001b[34;01mnumpy\u001b[39;00m\u001b[34;01m.\u001b[39;00m\u001b[34;01mchar\u001b[39;00m\u001b[38;5;250m \u001b[39m\u001b[38;5;28;01mas\u001b[39;00m\u001b[38;5;250m \u001b[39m\u001b[34;01mchar\u001b[39;00m\n\u001b[32m    412\u001b[39m     \u001b[38;5;28;01mreturn\u001b[39;00m char.chararray\n\u001b[32m--> \u001b[39m\u001b[32m414\u001b[39m \u001b[38;5;28;01mraise\u001b[39;00m \u001b[38;5;167;01mAttributeError\u001b[39;00m(\u001b[33m\"\u001b[39m\u001b[33mmodule \u001b[39m\u001b[38;5;132;01m{!r}\u001b[39;00m\u001b[33m has no attribute \u001b[39m\u001b[33m\"\u001b[39m\n\u001b[32m    415\u001b[39m                      \u001b[33m\"\u001b[39m\u001b[38;5;132;01m{!r}\u001b[39;00m\u001b[33m\"\u001b[39m.format(\u001b[34m__name__\u001b[39m, attr))\n",
      "\u001b[31mAttributeError\u001b[39m: module 'numpy' has no attribute 'float128'"
     ]
    }
   ],
   "source": [
    "from predictors.least_squares import LeastSquaresPredictor\n",
    "from utils import get_test_set_matrix, remove_test_set, root_mean_square_error\n",
    "\n",
    "\n",
    "training_data = remove_test_set(sample_user_ratings, sample_test_set)\n",
    "test_data = get_test_set_matrix(sample_user_ratings, sample_test_set)\n",
    "baseline = LeastSquaresPredictor(training_data=training_data, lmda=0)\n",
    "test_predictions = baseline.predict(sample_test_set)\n",
    "all_predictions = baseline.predict_all()\n",
    "rmse_training = root_mean_square_error(all_predictions, training_data)\n",
    "rmse_test = root_mean_square_error(all_predictions, test_data)\n",
    "print(f\"{test_predictions = }\")\n",
    "print(f\"{all_predictions = }\")\n",
    "print(f\"{rmse_training = }\")\n",
    "print(f\"{rmse_test = }\")"
   ]
  },
  {
   "cell_type": "code",
   "execution_count": null,
   "id": "5af6f25e",
   "metadata": {},
   "outputs": [
    {
     "name": "stdout",
     "output_type": "stream",
     "text": [
      "test_predictions = array([5.        , 3.37752525, 2.34823468, 1.        , 4.30218855,\n",
      "       4.96604771, 1.16377497, 3.64015152, 4.24705387, 4.86694105])\n",
      "all_predictions = array([[5.        , 3.98947811, 3.98947811, 3.30046397, 5.        ],\n",
      "       [5.        , 2.58459596, 4.85927655, 3.37752525, 4.10858586],\n",
      "       [4.81355219, 2.18644781, 4.44934389, 2.34823468, 2.81355219],\n",
      "       [2.86694105, 1.        , 2.71212121, 1.28787879, 1.71212121],\n",
      "       [4.45700839, 2.57112795, 4.30218855, 4.48779461, 5.        ],\n",
      "       [4.96604771, 3.51557239, 4.47311398, 3.51557239, 4.48442761],\n",
      "       [2.96927609, 1.16377497, 3.03072391, 1.96927609, 2.83495163],\n",
      "       [4.2790404 , 3.64015152, 4.16414141, 3.34974747, 4.76910407],\n",
      "       [4.24705387, 2.44155275, 5.        , 4.33038721, 4.06144781],\n",
      "       [4.86694105, 2.55537792, 4.71212121, 3.28787879, 3.71212121]])\n"
     ]
    }
   ],
   "source": [
    "from predictors.neighbor_correlations import Correlation, NeighborCorrelationsPredictor\n",
    "from utils.neighbor_selection import two_most_similar_skip_masked\n",
    "\n",
    "\n",
    "improved = NeighborCorrelationsPredictor(baseline=baseline, correlation=Correlation.ITEM)\n",
    "test_predictions = improved.predict(sample_test_set, two_most_similar_skip_masked)\n",
    "all_predictions = improved.predict_all(two_most_similar_skip_masked)\n",
    "print(f\"{test_predictions = }\")\n",
    "print(f\"{all_predictions = }\")"
   ]
  },
  {
   "cell_type": "code",
   "execution_count": null,
   "id": "ddd8b26a",
   "metadata": {},
   "outputs": [
    {
     "name": "stdout",
     "output_type": "stream",
     "text": [
      "all_predictions = array([[2.7810034 , 4.32096974, 4.28730748, 3.20899605, 1.96857358,\n",
      "        2.7758226 ],\n",
      "       [2.79794895, 2.50984957, 2.90354049, 3.17399307, 2.55150582,\n",
      "        1.54522453],\n",
      "       [3.49146676, 3.7100027 , 4.0667703 , 3.97788259, 3.0043268 ,\n",
      "        2.32069034],\n",
      "       [3.38814076, 4.44688706, 4.59608207, 3.88530072, 2.65233524,\n",
      "        2.82685284],\n",
      "       [2.12522742, 1.30307382, 1.74249611, 2.39294432, 2.12550369,\n",
      "        0.76408204],\n",
      "       [3.2455243 , 4.59754604, 4.66184835, 3.73178835, 2.43571605,\n",
      "        2.93723535],\n",
      "       [2.68549549, 4.16265191, 4.13245468, 3.09849498, 1.9040502 ,\n",
      "        2.67375558],\n",
      "       [1.78592517, 2.90815334, 2.85552248, 2.06473394, 1.22277952,\n",
      "        1.8730877 ]])\n",
      "latent.p = array([[ 0.90951534,  1.49898591,  1.68683546,  1.36784719,  1.3303109 ,\n",
      "         1.20290707,  0.88143331,  0.54172337],\n",
      "       [ 1.59279423,  0.43358713,  0.90878854,  1.42051681, -0.05447213,\n",
      "         1.57564435,  1.53178039,  1.10766056]])\n",
      "latent.q = array([[1.63090198, 1.06569016, 1.38761324, 1.83829925, 1.61069646,\n",
      "        0.63097025],\n",
      "       [0.8147148 , 2.10429454, 1.89933634, 0.96499263, 0.31618676,\n",
      "        1.3824419 ]])\n"
     ]
    }
   ],
   "source": [
    "import numpy as np\n",
    "from predictors.latent_factor import LatentFactorPredictor\n",
    "\n",
    "sample_user_ratings = [\n",
    "    [3, 4, 5, 3, 2, 3],\n",
    "    [3, 2, 3, 4, 2, 1],\n",
    "    [4, 4, 4, 5, 3, 2],\n",
    "    [3, 5, 4, 4, 3, 4],\n",
    "    [2, 1, 2, 2, 3, 1],\n",
    "    [3, 5, 5, 4, 4, 3],\n",
    "    [3, 5, 5, 3, 2, 2],\n",
    "    [2, 3, 3, 2, 1, 2],\n",
    "]\n",
    "sample_test_set = [\n",
    "    (0, 0),\n",
    "    (1, 1),\n",
    "    (2, 3),\n",
    "    (2, 4),\n",
    "    (3, 0),\n",
    "    (3, 1),\n",
    "    (5, 1),\n",
    "    (5, 4),\n",
    "    (6, 0),\n",
    "    (6, 2),\n",
    "    (7, 1),\n",
    "    (7, 3),\n",
    "]\n",
    "training_data = remove_test_set(sample_user_ratings, sample_test_set)\n",
    "test_data = get_test_set_matrix(sample_user_ratings, sample_test_set)\n",
    "u, i = training_data.shape\n",
    "latent = LatentFactorPredictor(\n",
    "    training_data=training_data,\n",
    "    k=2,\n",
    "    p=np.full((2, u), 1, dtype=np.float64),\n",
    "    q=np.full((2, i), 0, dtype=np.float64),\n",
    "    lmda=0.5,\n",
    ")\n",
    "latent.train(20)\n",
    "all_predictions = latent.predict_all()\n",
    "test_predictions = latent.predict(sample_test_set)\n",
    "print(f\"{all_predictions = }\")\n",
    "print(f\"{latent.p = }\")\n",
    "print(f\"{latent.q = }\")"
   ]
  },
  {
   "cell_type": "code",
   "execution_count": null,
   "id": "9695964a",
   "metadata": {},
   "outputs": [
    {
     "name": "stdout",
     "output_type": "stream",
     "text": [
      "rmse_training = np.float64(0.44287384117048195)\n",
      "rmse_test = np.float64(0.6634734183457354)\n"
     ]
    }
   ],
   "source": [
    "rmse_training = root_mean_square_error(all_predictions, training_data)\n",
    "rmse_test = root_mean_square_error(all_predictions, test_data)\n",
    "print(f\"{rmse_training = }\")\n",
    "print(f\"{rmse_test = }\")"
   ]
  }
 ],
 "metadata": {
  "kernelspec": {
   "display_name": ".venv",
   "language": "python",
   "name": "python3"
  },
  "language_info": {
   "codemirror_mode": {
    "name": "ipython",
    "version": 3
   },
   "file_extension": ".py",
   "mimetype": "text/x-python",
   "name": "python",
   "nbconvert_exporter": "python",
   "pygments_lexer": "ipython3",
   "version": "3.12.3"
  }
 },
 "nbformat": 4,
 "nbformat_minor": 5
}
