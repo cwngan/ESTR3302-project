{
 "cells": [
  {
   "cell_type": "markdown",
   "id": "86a0b0f1",
   "metadata": {},
   "source": [
    "## Sample Data Generation"
   ]
  },
  {
   "cell_type": "code",
   "execution_count": 8,
   "id": "6f8aed17",
   "metadata": {},
   "outputs": [],
   "source": [
    "from samples import generate_sample_data\n",
    "import json\n",
    "\n",
    "sample_data = generate_sample_data(1000, 1000, 200)\n",
    "with open(\"samples/data.json\", \"w\") as f:\n",
    "    json.dump(sample_data, f)"
   ]
  },
  {
   "cell_type": "code",
   "execution_count": 1,
   "id": "eff1a0fb",
   "metadata": {},
   "outputs": [],
   "source": [
    "import json\n",
    "from random import randrange\n",
    "with open(\"samples/data.json\", \"r\") as f:\n",
    "    sample_data = json.load(f)\n",
    "\n",
    "user_ratings = sample_data[\"ratings\"]\n",
    "test_set_size = int(len(user_ratings) * len(user_ratings[0]) * 0.2)\n",
    "test_set = [(randrange(0, len(user_ratings)), randrange(0, len(user_ratings[0]))) for _ in range(test_set_size)]"
   ]
  },
  {
   "cell_type": "code",
   "execution_count": 7,
   "id": "bb430770",
   "metadata": {},
   "outputs": [],
   "source": [
    "user_ratings = [\n",
    "    [5, 4, 5, 3, 3],\n",
    "    [3, 2, 2, 4, 1],\n",
    "    [3, 4, 3, 5, 4],\n",
    "    [5, 1, 4, 2, 4],\n",
    "    [2, 3, 4, 1, 1],\n",
    "    [2, 3, 4, 2, 5],\n",
    "]\n",
    "\n",
    "test_set = [\n",
    "    (0, 0),\n",
    "    (0, 3),\n",
    "    (1, 1),\n",
    "    (1, 4),\n",
    "    (2, 0),\n",
    "    (2, 4),\n",
    "    (3, 2),\n",
    "    (4, 1),\n",
    "    (4, 3),\n",
    "    (5, 0),\n",
    "]"
   ]
  },
  {
   "cell_type": "code",
   "execution_count": 4,
   "id": "d794450f",
   "metadata": {},
   "outputs": [],
   "source": [
    "user_ratings = [\n",
    "    [5, 4, 4, -1, 5],\n",
    "    [-1, 3, 5, 3, 4],\n",
    "    [5, 2, -1, 2, 3],\n",
    "    [-1, 2, 3, 1, 2],\n",
    "    [4, -1, 5, 4, 5],\n",
    "    [5, 3, -1, 3, 5],\n",
    "    [3, 2, 3, 2, -1],\n",
    "    [5, 3, 4, -1, 5],\n",
    "    [4, 2, 5, 4, -1],\n",
    "    [5, -1, 5, 3, 4]\n",
    "]\n",
    "test_set = [(0, 4), (1, 3), (2, 3), (3, 1), (4, 2),\n",
    "                   (5, 0), (6, 1), (7, 1), (8, 0), (9, 0)]"
   ]
  },
  {
   "cell_type": "code",
   "execution_count": null,
   "id": "0fa88af9",
   "metadata": {},
   "outputs": [
    {
     "name": "stdout",
     "output_type": "stream",
     "text": [
      "Constructing relevant matrices...\n",
      "Calculating user and item biases...\n"
     ]
    },
    {
     "name": "stderr",
     "output_type": "stream",
     "text": [
      "/Users/matthewngan/ESTR3302-project/predictors/least_squares.py:81: SparseEfficiencyWarning: spsolve requires A be CSC or CSR matrix format\n",
      "  self.b = spsolve(AAT, rhs)\n"
     ]
    },
    {
     "name": "stdout",
     "output_type": "stream",
     "text": [
      "Training done.\n",
      "Predicting entries...\n"
     ]
    },
    {
     "name": "stderr",
     "output_type": "stream",
     "text": [
      "100%|██████████| 200000/200000 [00:00<00:00, 2456825.04it/s]\n"
     ]
    },
    {
     "name": "stdout",
     "output_type": "stream",
     "text": [
      "Finish predicting entries.\n",
      "Predicting all...\n"
     ]
    },
    {
     "name": "stderr",
     "output_type": "stream",
     "text": [
      "100%|██████████| 1000/1000 [00:00<00:00, 2530.91it/s]"
     ]
    },
    {
     "name": "stdout",
     "output_type": "stream",
     "text": [
      "Finish predicting all.\n",
      "test_predictions = array([3.09117081, 3.10550883, 3.12030311, ..., 3.11078917, 3.1101873 ,\n",
      "       3.08228738], shape=(200000,))\n",
      "all_predictions = array([[3.09294839, 3.12755487, 3.11496811, ..., 3.12567891, 3.11557652,\n",
      "        3.06371067],\n",
      "       [3.07693211, 3.11153859, 3.09895183, ..., 3.10966263, 3.09956024,\n",
      "        3.04769438],\n",
      "       [3.09329141, 3.12789788, 3.11531113, ..., 3.12602192, 3.11591954,\n",
      "        3.06405368],\n",
      "       ...,\n",
      "       [3.07644045, 3.11104692, 3.09846017, ..., 3.10917096, 3.09906858,\n",
      "        3.04720272],\n",
      "       [3.08974041, 3.12434689, 3.11176013, ..., 3.12247093, 3.11236854,\n",
      "        3.06050269],\n",
      "       [3.10323256, 3.13783904, 3.12525228, ..., 3.13596308, 3.12586069,\n",
      "        3.07399483]], shape=(1000, 1000))\n"
     ]
    },
    {
     "name": "stderr",
     "output_type": "stream",
     "text": [
      "\n"
     ]
    }
   ],
   "source": [
    "from predictors.least_squares import LeastSquaresPredictor\n",
    "from utils import get_test_set_matrix, remove_test_set, root_mean_square_error\n",
    "\n",
    "\n",
    "training_data = remove_test_set(user_ratings, test_set)\n",
    "test_data = get_test_set_matrix(user_ratings, test_set)\n",
    "baseline = LeastSquaresPredictor(training_data=training_data, lmda=0.25)\n",
    "baseline.train()\n",
    "test_predictions = baseline.predict(test_set)\n",
    "all_predictions = baseline.predict_all()\n",
    "print(f\"{test_predictions = }\")\n",
    "print(f\"{all_predictions = }\")\n",
    "rmse_training = root_mean_square_error(all_predictions, training_data)\n",
    "rmse_test = root_mean_square_error(all_predictions, test_data)\n",
    "print(f\"{rmse_training = }\")\n",
    "print(f\"{rmse_test = }\")"
   ]
  },
  {
   "cell_type": "code",
   "execution_count": null,
   "id": "5af6f25e",
   "metadata": {},
   "outputs": [
    {
     "name": "stdout",
     "output_type": "stream",
     "text": [
      "Calculating cosine similarity coefficients...\n",
      "Predicting all...\n"
     ]
    },
    {
     "name": "stderr",
     "output_type": "stream",
     "text": [
      "100%|██████████| 1000/1000 [00:00<00:00, 2899.24it/s]\n"
     ]
    },
    {
     "name": "stdout",
     "output_type": "stream",
     "text": [
      "Finish predicting all.\n",
      "Making neighbor table...\n"
     ]
    },
    {
     "name": "stderr",
     "output_type": "stream",
     "text": [
      "100%|██████████| 1000/1000 [00:05<00:00, 167.60it/s]\n"
     ]
    },
    {
     "name": "stdout",
     "output_type": "stream",
     "text": [
      "Finish training.\n",
      "Predicting entries...\n"
     ]
    },
    {
     "name": "stderr",
     "output_type": "stream",
     "text": [
      "100%|██████████| 200000/200000 [00:00<00:00, 2571394.24it/s]\n"
     ]
    },
    {
     "name": "stdout",
     "output_type": "stream",
     "text": [
      "Finish predicting entries.\n",
      "Predicting all...\n"
     ]
    },
    {
     "name": "stderr",
     "output_type": "stream",
     "text": [
      "100%|██████████| 1000/1000 [00:00<00:00, 2978.51it/s]\n"
     ]
    },
    {
     "name": "stdout",
     "output_type": "stream",
     "text": [
      "Finish predicting all.\n"
     ]
    }
   ],
   "source": [
    "import numpy as np\n",
    "from predictors.neighbor_correlations import Correlation, NeighborCorrelationsPredictor\n",
    "from utils.neighbor_selection import most_similar, two_most_similar_skip_masked\n",
    "\n",
    "# baseline.predict_all = lambda : np.array(\n",
    "#     [\n",
    "#         [np.nan, 2.7, 3.3, np.nan, 4.5],\n",
    "#         [4.1, np.nan, 3.5, 4.9, np.nan],\n",
    "#         [np.nan, 3.8, 2.5, 4.2, np.nan],\n",
    "#         [2.8, 3.1, np.nan, 2.6, 4.8],\n",
    "#         [3.3, np.nan, 3.7, np.nan, 2.4],\n",
    "#         [np.nan, 3.9, 4.0, 1.5, 3.9],\n",
    "#     ]\n",
    "# )\n",
    "\n",
    "improved = NeighborCorrelationsPredictor(baseline=baseline, correlation=Correlation.ITEM)\n",
    "improved.train(most_similar)\n",
    "test_predictions = improved.predict(test_set)\n",
    "all_predictions = improved.predict_all()\n",
    "print(f\"{test_predictions = }\")\n",
    "print(f\"{all_predictions = }\")"
   ]
  },
  {
   "cell_type": "code",
   "execution_count": 5,
   "id": "ddd8b26a",
   "metadata": {},
   "outputs": [
    {
     "name": "stdout",
     "output_type": "stream",
     "text": [
      "all_predictions = array([[2.73402602, 4.48879132, 4.30697551, 3.2186042 , 1.96912014,\n",
      "        2.81803155],\n",
      "       [2.83475932, 2.56022117, 2.90042499, 3.28621128, 2.69179878,\n",
      "        1.50348167],\n",
      "       [3.74631254, 3.7619743 , 4.11600953, 4.3521493 , 3.43987108,\n",
      "        2.24331636],\n",
      "       [3.38052349, 4.72745277, 4.71039242, 3.9596552 , 2.69019862,\n",
      "        2.9270728 ],\n",
      "       [2.17435686, 1.27615303, 1.71072411, 2.50389476, 2.27819342,\n",
      "        0.68744758],\n",
      "       [3.24193673, 4.89639618, 4.78844221, 3.80615816, 2.46728672,\n",
      "        3.05278956],\n",
      "       [2.65612574, 4.34602767, 4.1731457 , 3.12653497, 1.9176295 ,\n",
      "        2.7276686 ],\n",
      "       [1.77062656, 3.13429637, 2.95917071, 2.08998444, 1.20470111,\n",
      "        1.97895441]])\n",
      "latent.p = array([[ 0.88963584,  1.50009581,  1.87805526,  1.32698965,  1.34032657,\n",
      "         1.17251361,  0.86838852,  0.51346081],\n",
      "       [ 1.58503227,  0.41031614,  0.76514332,  1.47530906, -0.09021009,\n",
      "         1.62844766,  1.53111621,  1.16032704]])\n",
      "latent.q = array([[1.6750748 , 1.10113009, 1.40611625, 1.93181639, 1.71842827,\n",
      "        0.6095307 ],\n",
      "       [0.78472816, 2.21395275, 1.92806429, 0.94634736, 0.27781439,\n",
      "        1.43578856]])\n"
     ]
    }
   ],
   "source": [
    "import numpy as np\n",
    "from predictors.latent_factor import LatentFactorPredictor\n",
    "\n",
    "sample_user_ratings = [\n",
    "    [3, 4, 5, 3, 2, 3],\n",
    "    [3, 2, 3, 4, 2, 1],\n",
    "    [4, 4, 4, 5, 3, 2],\n",
    "    [3, 5, 4, 4, 3, 4],\n",
    "    [2, 1, 2, 2, 3, 1],\n",
    "    [3, 5, 5, 4, 4, 3],\n",
    "    [3, 5, 5, 3, 2, 2],\n",
    "    [2, 3, 3, 2, 1, 2],\n",
    "]\n",
    "sample_test_set = [\n",
    "    (0, 0),\n",
    "    (1, 1),\n",
    "    (2, 3),\n",
    "    (2, 4),\n",
    "    (3, 0),\n",
    "    (3, 1),\n",
    "    (5, 1),\n",
    "    (5, 4),\n",
    "    (6, 0),\n",
    "    (6, 2),\n",
    "    (7, 1),\n",
    "    (7, 3),\n",
    "]\n",
    "training_data = remove_test_set(sample_user_ratings, sample_test_set)\n",
    "test_data = get_test_set_matrix(sample_user_ratings, sample_test_set)\n",
    "u, i = training_data.shape\n",
    "k = 2\n",
    "latent = LatentFactorPredictor(\n",
    "    training_data=training_data,\n",
    "    k=k,\n",
    "    p=np.full((k, u), 1, dtype=np.float64),\n",
    "    q=np.full((k, i), 1, dtype=np.float64),\n",
    "    lmda=0.2,\n",
    ")\n",
    "latent.train(20)\n",
    "all_predictions = latent.predict_all()\n",
    "test_predictions = latent.predict(sample_test_set)\n",
    "print(f\"{all_predictions = }\")\n",
    "print(f\"{latent.p = }\")\n",
    "print(f\"{latent.q = }\")"
   ]
  },
  {
   "cell_type": "code",
   "execution_count": 5,
   "id": "9695964a",
   "metadata": {},
   "outputs": [
    {
     "name": "stdout",
     "output_type": "stream",
     "text": [
      "Calculating mean-square error\n"
     ]
    },
    {
     "name": "stderr",
     "output_type": "stream",
     "text": [
      "100%|██████████| 1000/1000 [00:08<00:00, 119.93it/s]\n"
     ]
    },
    {
     "name": "stdout",
     "output_type": "stream",
     "text": [
      "Calculating mean-square error\n"
     ]
    },
    {
     "name": "stderr",
     "output_type": "stream",
     "text": [
      "100%|██████████| 1000/1000 [00:06<00:00, 166.47it/s]"
     ]
    },
    {
     "name": "stdout",
     "output_type": "stream",
     "text": [
      "rmse_training = np.float64(0.5998593466592971)\n",
      "rmse_test = np.float64(0.6292351490204294)\n"
     ]
    },
    {
     "name": "stderr",
     "output_type": "stream",
     "text": [
      "\n"
     ]
    }
   ],
   "source": [
    "rmse_training = root_mean_square_error(all_predictions, training_data)\n",
    "rmse_test = root_mean_square_error(all_predictions, test_data)\n",
    "print(f\"{rmse_training = }\")\n",
    "print(f\"{rmse_test = }\")"
   ]
  }
 ],
 "metadata": {
  "kernelspec": {
   "display_name": ".venv",
   "language": "python",
   "name": "python3"
  },
  "language_info": {
   "codemirror_mode": {
    "name": "ipython",
    "version": 3
   },
   "file_extension": ".py",
   "mimetype": "text/x-python",
   "name": "python",
   "nbconvert_exporter": "python",
   "pygments_lexer": "ipython3",
   "version": "3.12.3"
  }
 },
 "nbformat": 4,
 "nbformat_minor": 5
}
