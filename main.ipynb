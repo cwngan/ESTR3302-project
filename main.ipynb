{
 "cells": [
  {
   "cell_type": "markdown",
   "id": "86a0b0f1",
   "metadata": {},
   "source": [
    "## Sample Data Generation"
   ]
  },
  {
   "cell_type": "code",
   "execution_count": 1,
   "id": "6f8aed17",
   "metadata": {},
   "outputs": [],
   "source": [
    "from samples import generate_sample_data\n",
    "import json\n",
    "\n",
    "sample_data = generate_sample_data(1000, 1000, 200)\n",
    "with open(\"samples/data.json\", \"w\") as f:\n",
    "    json.dump(sample_data, f)"
   ]
  },
  {
   "cell_type": "code",
   "execution_count": 9,
   "id": "eff1a0fb",
   "metadata": {},
   "outputs": [],
   "source": [
    "import json\n",
    "from random import randrange\n",
    "with open(\"samples/data.json\", \"r\") as f:\n",
    "    sample_data = json.load(f)\n",
    "\n",
    "user_ratings = sample_data[\"ratings\"]\n",
    "test_set_size = int(len(user_ratings) * len(user_ratings[0]) * 0.2)\n",
    "test_set = [(randrange(0, len(user_ratings)), randrange(0, len(user_ratings[0]))) for _ in range(test_set_size)]"
   ]
  },
  {
   "cell_type": "code",
   "execution_count": 3,
   "id": "bb430770",
   "metadata": {},
   "outputs": [],
   "source": [
    "user_ratings = [\n",
    "    [5, 4, 5, 3, 3],\n",
    "    [3, 2, 2, 4, 1],\n",
    "    [3, 4, 3, 5, 4],\n",
    "    [5, 1, 4, 2, 4],\n",
    "    [2, 3, 4, 1, 1],\n",
    "    [2, 3, 4, 2, 5],\n",
    "]\n",
    "\n",
    "test_set = [\n",
    "    (0, 0),\n",
    "    (0, 3),\n",
    "    (1, 1),\n",
    "    (1, 4),\n",
    "    (2, 0),\n",
    "    (2, 4),\n",
    "    (3, 2),\n",
    "    (4, 1),\n",
    "    (4, 3),\n",
    "    (5, 0),\n",
    "]"
   ]
  },
  {
   "cell_type": "code",
   "execution_count": 4,
   "id": "d794450f",
   "metadata": {},
   "outputs": [],
   "source": [
    "user_ratings = [\n",
    "    [5, 4, 4, -1, 5],\n",
    "    [-1, 3, 5, 3, 4],\n",
    "    [5, 2, -1, 2, 3],\n",
    "    [-1, 2, 3, 1, 2],\n",
    "    [4, -1, 5, 4, 5],\n",
    "    [5, 3, -1, 3, 5],\n",
    "    [3, 2, 3, 2, -1],\n",
    "    [5, 3, 4, -1, 5],\n",
    "    [4, 2, 5, 4, -1],\n",
    "    [5, -1, 5, 3, 4]\n",
    "]\n",
    "test_set = [(0, 4), (1, 3), (2, 3), (3, 1), (4, 2),\n",
    "                   (5, 0), (6, 1), (7, 1), (8, 0), (9, 0)]"
   ]
  },
  {
   "cell_type": "markdown",
   "id": "312d3cb7",
   "metadata": {},
   "source": [
    "## Least Squares Optimiation Predictor (Baseline)"
   ]
  },
  {
   "cell_type": "code",
   "execution_count": 16,
   "id": "0fa88af9",
   "metadata": {},
   "outputs": [
    {
     "name": "stdout",
     "output_type": "stream",
     "text": [
      "Constructing relevant matrices...\n",
      "Calculating user and item biases...\n"
     ]
    },
    {
     "name": "stderr",
     "output_type": "stream",
     "text": [
      "/Users/matthewngan/ESTR3302-project/predictors/least_squares.py:81: SparseEfficiencyWarning: spsolve requires A be CSC or CSR matrix format\n",
      "  self.b = spsolve(AAT, rhs)\n"
     ]
    },
    {
     "name": "stdout",
     "output_type": "stream",
     "text": [
      "Training done.\n",
      "Predicting entries...\n"
     ]
    },
    {
     "name": "stderr",
     "output_type": "stream",
     "text": [
      "100%|██████████| 200000/200000 [00:00<00:00, 2559734.40it/s]\n"
     ]
    },
    {
     "name": "stdout",
     "output_type": "stream",
     "text": [
      "Finish predicting entries.\n",
      "Predicting all...\n"
     ]
    },
    {
     "name": "stderr",
     "output_type": "stream",
     "text": [
      "100%|██████████| 1000/1000 [00:00<00:00, 3061.74it/s]"
     ]
    },
    {
     "name": "stdout",
     "output_type": "stream",
     "text": [
      "Finish predicting all.\n",
      "test_predictions = array([2.97127183, 2.96800439, 2.95684838, ..., 3.01460806, 2.94151792,\n",
      "       2.94466463], shape=(200000,))\n",
      "all_predictions = array([[2.91371091, 2.96432825, 2.93525303, ..., 2.94395739, 2.91429782,\n",
      "        2.96025262],\n",
      "       [2.94957233, 3.00018967, 2.97111445, ..., 2.97981881, 2.95015924,\n",
      "        2.99611404],\n",
      "       [2.93657768, 2.98719502, 2.9581198 , ..., 2.96682416, 2.93716459,\n",
      "        2.9831194 ],\n",
      "       ...,\n",
      "       [2.95093625, 3.00155359, 2.97247838, ..., 2.98118274, 2.95152317,\n",
      "        2.99747797],\n",
      "       [2.94461929, 2.99523663, 2.96616141, ..., 2.97486577, 2.9452062 ,\n",
      "        2.99116101],\n",
      "       [2.91271923, 2.96333657, 2.93426136, ..., 2.94296572, 2.91330615,\n",
      "        2.95926095]], shape=(1000, 1000))\n",
      "rmse_training = np.float64(0.4520819118695603)\n",
      "rmse_test = np.float64(0.4534208831219679)\n"
     ]
    },
    {
     "name": "stderr",
     "output_type": "stream",
     "text": [
      "\n"
     ]
    }
   ],
   "source": [
    "from predictors.least_squares import LeastSquaresPredictor\n",
    "from utils import get_test_set_matrix, remove_test_set, root_mean_square_error\n",
    "\n",
    "\n",
    "training_data = remove_test_set(user_ratings, test_set)\n",
    "test_data = get_test_set_matrix(user_ratings, test_set)\n",
    "baseline = LeastSquaresPredictor(training_data=training_data, lmda=0)\n",
    "baseline.train()\n",
    "test_predictions = baseline.predict(test_set)\n",
    "all_predictions = baseline.predict_all()\n",
    "print(f\"{test_predictions = }\")\n",
    "print(f\"{all_predictions = }\")\n",
    "rmse_training = root_mean_square_error(all_predictions, training_data)\n",
    "rmse_test = root_mean_square_error(all_predictions, test_data)\n",
    "print(f\"{rmse_training = }\")\n",
    "print(f\"{rmse_test = }\")"
   ]
  },
  {
   "cell_type": "markdown",
   "id": "4342f4b1",
   "metadata": {},
   "source": [
    "## Neighbor Correlations Predictor (based on Least Sqaures Optimization) (Improved)"
   ]
  },
  {
   "cell_type": "code",
   "execution_count": 6,
   "id": "5af6f25e",
   "metadata": {},
   "outputs": [
    {
     "name": "stdout",
     "output_type": "stream",
     "text": [
      "Calculating cosine similarity coefficients...\n",
      "Predicting all...\n"
     ]
    },
    {
     "name": "stderr",
     "output_type": "stream",
     "text": [
      "100%|██████████| 10/10 [00:00<00:00, 158875.15it/s]\n"
     ]
    },
    {
     "name": "stdout",
     "output_type": "stream",
     "text": [
      "Finish predicting all.\n",
      "Making neighbor table...\n"
     ]
    },
    {
     "name": "stderr",
     "output_type": "stream",
     "text": [
      "100%|██████████| 10/10 [00:00<00:00, 14553.45it/s]\n"
     ]
    },
    {
     "name": "stdout",
     "output_type": "stream",
     "text": [
      "Finish training.\n",
      "Predicting entries...\n"
     ]
    },
    {
     "name": "stderr",
     "output_type": "stream",
     "text": [
      "100%|██████████| 10/10 [00:00<00:00, 262144.00it/s]\n"
     ]
    },
    {
     "name": "stdout",
     "output_type": "stream",
     "text": [
      "Finish predicting entries.\n",
      "Predicting all...\n"
     ]
    },
    {
     "name": "stderr",
     "output_type": "stream",
     "text": [
      "100%|██████████| 10/10 [00:00<00:00, 182361.04it/s]"
     ]
    },
    {
     "name": "stdout",
     "output_type": "stream",
     "text": [
      "Finish predicting all.\n",
      "test_predictions = array([5.        , 3.37752525, 2.34823468, 1.        , 4.30218855,\n",
      "       4.96604771, 1.16377497, 3.64015152, 4.24705387, 4.86694105])\n",
      "all_predictions = array([[5.        , 3.98947811, 3.98947811, 3.30046397, 5.        ],\n",
      "       [5.        , 2.58459596, 4.85927655, 3.37752525, 4.10858586],\n",
      "       [4.81355219, 2.18644781, 4.44934389, 2.34823468, 2.81355219],\n",
      "       [2.86694105, 1.        , 2.71212121, 1.28787879, 1.71212121],\n",
      "       [4.45700839, 2.57112795, 4.30218855, 4.48779461, 5.        ],\n",
      "       [4.96604771, 3.51557239, 4.47311398, 3.51557239, 4.48442761],\n",
      "       [2.96927609, 1.16377497, 3.03072391, 1.96927609, 2.83495163],\n",
      "       [4.2790404 , 3.64015152, 4.16414141, 3.34974747, 4.76910407],\n",
      "       [4.24705387, 2.44155275, 5.        , 4.33038721, 4.06144781],\n",
      "       [4.86694105, 2.55537792, 4.71212121, 3.28787879, 3.71212121]])\n"
     ]
    },
    {
     "name": "stderr",
     "output_type": "stream",
     "text": [
      "\n"
     ]
    }
   ],
   "source": [
    "import numpy as np\n",
    "from predictors.neighbor_correlations import Correlation, NeighborCorrelationsPredictor\n",
    "from utils.neighbor_selection import most_similar, two_most_similar_skip_masked\n",
    "\n",
    "# baseline.predict_all = lambda : np.array(\n",
    "#     [\n",
    "#         [np.nan, 2.7, 3.3, np.nan, 4.5],\n",
    "#         [4.1, np.nan, 3.5, 4.9, np.nan],\n",
    "#         [np.nan, 3.8, 2.5, 4.2, np.nan],\n",
    "#         [2.8, 3.1, np.nan, 2.6, 4.8],\n",
    "#         [3.3, np.nan, 3.7, np.nan, 2.4],\n",
    "#         [np.nan, 3.9, 4.0, 1.5, 3.9],\n",
    "#     ]\n",
    "# )\n",
    "\n",
    "improved = NeighborCorrelationsPredictor(baseline=baseline, correlation=Correlation.ITEM)\n",
    "improved.train(two_most_similar_skip_masked)\n",
    "test_predictions = improved.predict(test_set)\n",
    "all_predictions = improved.predict_all()\n",
    "print(f\"{test_predictions = }\")\n",
    "print(f\"{all_predictions = }\")"
   ]
  },
  {
   "cell_type": "markdown",
   "id": "efad0bce",
   "metadata": {},
   "source": [
    "## Latent Factor Predictor"
   ]
  },
  {
   "cell_type": "code",
   "execution_count": null,
   "id": "fa0d9647",
   "metadata": {},
   "outputs": [],
   "source": [
    "user_ratings = [\n",
    "    [3, 4, 5, 3, 2, 3],\n",
    "    [3, 2, 3, 4, 2, 1],\n",
    "    [4, 4, 4, 5, 3, 2],\n",
    "    [3, 5, 4, 4, 3, 4],\n",
    "    [2, 1, 2, 2, 3, 1],\n",
    "    [3, 5, 5, 4, 4, 3],\n",
    "    [3, 5, 5, 3, 2, 2],\n",
    "    [2, 3, 3, 2, 1, 2],\n",
    "]\n",
    "test_set = [\n",
    "    (0, 0),\n",
    "    (1, 1),\n",
    "    (2, 3),\n",
    "    (2, 4),\n",
    "    (3, 0),\n",
    "    (3, 1),\n",
    "    (5, 1),\n",
    "    (5, 4),\n",
    "    (6, 0),\n",
    "    (6, 2),\n",
    "    (7, 1),\n",
    "    (7, 3),\n",
    "]"
   ]
  },
  {
   "cell_type": "code",
   "execution_count": null,
   "id": "ddd8b26a",
   "metadata": {},
   "outputs": [
    {
     "name": "stderr",
     "output_type": "stream",
     "text": [
      "100%|██████████| 20/20 [00:01<00:00, 10.11it/s]\n",
      "100%|██████████| 20/20 [00:01<00:00, 10.93it/s]\n"
     ]
    },
    {
     "name": "stdout",
     "output_type": "stream",
     "text": [
      "all_predictions = array([[2.96695063, 2.99222471, 2.88142223, ..., 2.91243597, 2.95074402,\n",
      "        2.96091005],\n",
      "       [2.94688007, 2.99882528, 2.97398004, ..., 2.98040445, 2.94858573,\n",
      "        2.99579658],\n",
      "       [2.94251972, 2.99024744, 2.95229495, ..., 2.9624706 , 2.94147664,\n",
      "        2.98289255],\n",
      "       ...,\n",
      "       [2.95831017, 3.00555099, 2.96503621, ..., 2.97594132, 2.9567687 ,\n",
      "        2.99737952],\n",
      "       [3.06004992, 3.0562819 , 2.84729368, ..., 2.9063786 , 3.02354703,\n",
      "        2.99278005],\n",
      "       [2.91956061, 2.96665191, 2.92815743, ..., 2.93849349, 2.91835056,\n",
      "        2.95907827]], shape=(1000, 1000))\n",
      "test_predictions = array([2.97408996, 2.9643107 , 2.95656438, ..., 2.99682169, 3.01586525,\n",
      "       3.0226445 ], shape=(200000,))\n",
      "latent.p = array([[0.89285607, 1.01045071, 0.9898839 , ..., 0.9917736 , 0.78345222,\n",
      "        0.98094422],\n",
      "       [1.09664304, 1.00247261, 1.01437154, ..., 1.02221633, 1.2274797 ,\n",
      "        1.00731017]], shape=(2, 1000))\n",
      "latent.q = array([[1.20817119, 1.35663523, 1.75012992, ..., 1.6372631 , 1.29321238,\n",
      "        1.48839781],\n",
      "       [1.72182523, 1.62399673, 1.20258649, ..., 1.32276011, 1.63780869,\n",
      "        1.48816431]], shape=(2, 1000))\n"
     ]
    }
   ],
   "source": [
    "import numpy as np\n",
    "from predictors.latent_factor import LatentFactorPredictor\n",
    "from utils import get_test_set_matrix, remove_test_set, root_mean_square_error\n",
    "\n",
    "training_data = remove_test_set(user_ratings, test_set)\n",
    "test_data = get_test_set_matrix(user_ratings, test_set)\n",
    "u, i = training_data.shape\n",
    "k = 2\n",
    "latent = LatentFactorPredictor(\n",
    "    training_data=training_data,\n",
    "    k=k,\n",
    "    p=np.full((k, u), 1, dtype=np.float64),\n",
    "    q=np.full((k, i), 1, dtype=np.float64),\n",
    "    lmda=0.2,\n",
    ")\n",
    "latent.train(20)\n",
    "# latent.old_train(20)\n",
    "all_predictions = latent.predict_all()\n",
    "test_predictions = latent.predict(test_set)\n",
    "print(f\"{all_predictions = }\")\n",
    "print(f\"{test_predictions = }\")\n",
    "print(f\"{latent.p = }\")\n",
    "print(f\"{latent.q = }\")"
   ]
  },
  {
   "cell_type": "code",
   "execution_count": 15,
   "id": "9695964a",
   "metadata": {},
   "outputs": [
    {
     "name": "stdout",
     "output_type": "stream",
     "text": [
      "rmse_training = np.float64(0.4499102135656826)\n",
      "rmse_test = np.float64(0.4527622419868144)\n"
     ]
    }
   ],
   "source": [
    "rmse_training = root_mean_square_error(all_predictions, training_data)\n",
    "rmse_test = root_mean_square_error(all_predictions, test_data)\n",
    "print(f\"{rmse_training = }\")\n",
    "print(f\"{rmse_test = }\")"
   ]
  }
 ],
 "metadata": {
  "kernelspec": {
   "display_name": ".venv",
   "language": "python",
   "name": "python3"
  },
  "language_info": {
   "codemirror_mode": {
    "name": "ipython",
    "version": 3
   },
   "file_extension": ".py",
   "mimetype": "text/x-python",
   "name": "python",
   "nbconvert_exporter": "python",
   "pygments_lexer": "ipython3",
   "version": "3.12.3"
  }
 },
 "nbformat": 4,
 "nbformat_minor": 5
}
