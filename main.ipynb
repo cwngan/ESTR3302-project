{
 "cells": [
  {
   "cell_type": "code",
   "execution_count": 5,
   "id": "bb430770",
   "metadata": {},
   "outputs": [],
   "source": [
    "sample_user_ratings = [\n",
    "    [5, 4, 5, 3, 3],\n",
    "    [3, 2, 2, 4, 1],\n",
    "    [3, 4, 3, 5, 4],\n",
    "    [5, 1, 4, 2, 4],\n",
    "    [2, 3, 4, 1, 1],\n",
    "    [2, 3, 4, 2, 5],\n",
    "]\n",
    "\n",
    "sample_test_set = [\n",
    "    (0, 0),\n",
    "    (0, 3),\n",
    "    (1, 1),\n",
    "    (1, 4),\n",
    "    (2, 0),\n",
    "    (2, 4),\n",
    "    (3, 2),\n",
    "    (4, 1),\n",
    "    (4, 3),\n",
    "    (5, 0),\n",
    "]"
   ]
  },
  {
   "cell_type": "code",
   "execution_count": 6,
   "id": "d794450f",
   "metadata": {},
   "outputs": [],
   "source": [
    "sample_user_ratings = [\n",
    "    [5, 4, 4, -1, 5],\n",
    "    [-1, 3, 5, 3, 4],\n",
    "    [5, 2, -1, 2, 3],\n",
    "    [-1, 2, 3, 1, 2],\n",
    "    [4, -1, 5, 4, 5],\n",
    "    [5, 3, -1, 3, 5],\n",
    "    [3, 2, 3, 2, -1],\n",
    "    [5, 3, 4, -1, 5],\n",
    "    [4, 2, 5, 4, -1],\n",
    "    [5, -1, 5, 3, 4]\n",
    "]\n",
    "sample_test_set = [(0, 4), (1, 3), (2, 3), (3, 1), (4, 2),\n",
    "                   (5, 0), (6, 1), (7, 1), (8, 0), (9, 0)]"
   ]
  },
  {
   "cell_type": "code",
   "execution_count": 7,
   "id": "0fa88af9",
   "metadata": {},
   "outputs": [
    {
     "name": "stdout",
     "output_type": "stream",
     "text": [
      "test_predictions = array([4.61784512, 3.48611111, 2.78114478, 1.        , 4.78998316,\n",
      "       4.87710438, 1.22895623, 2.91919192, 4.78451178, 4.60984848])\n",
      "all_predictions = array([[5.        , 3.09385522, 4.8956229 , 3.68855219, 4.61784512],\n",
      "       [4.80808081, 2.89141414, 4.69318182, 3.48611111, 4.41540404],\n",
      "       [4.10311448, 2.18644781, 3.98821549, 2.78114478, 3.71043771],\n",
      "       [2.60984848, 1.        , 2.49494949, 1.28787879, 2.21717172],\n",
      "       [4.90488215, 2.98821549, 4.78998316, 3.58291246, 4.51220539],\n",
      "       [4.87710438, 2.96043771, 4.76220539, 3.55513468, 4.48442761],\n",
      "       [3.1456229 , 1.22895623, 3.03072391, 1.8236532 , 2.75294613],\n",
      "       [4.83585859, 2.91919192, 4.7209596 , 3.51388889, 4.44318182],\n",
      "       [4.78451178, 2.86784512, 4.66961279, 3.46254209, 4.39183502],\n",
      "       [4.60984848, 2.69318182, 4.49494949, 3.28787879, 4.21717172]])\n",
      "rmse_training = np.float64(0.5126176872466319)\n",
      "rmse_test = np.float64(0.5848469310964863)\n"
     ]
    }
   ],
   "source": [
    "from predictors.least_squares import LeastSquaresPredictor\n",
    "from utils import get_test_set_matrix, remove_test_set, root_mean_square_error\n",
    "\n",
    "\n",
    "training_data = remove_test_set(sample_user_ratings, sample_test_set)\n",
    "test_data = get_test_set_matrix(sample_user_ratings, sample_test_set)\n",
    "baseline = LeastSquaresPredictor(training_data=training_data, lmda=0)\n",
    "test_predictions = baseline.predict(sample_test_set)\n",
    "all_predictions = baseline.predict_all()\n",
    "rmse_training = root_mean_square_error(all_predictions, training_data)\n",
    "rmse_test = root_mean_square_error(all_predictions, test_data)\n",
    "print(f\"{test_predictions = }\")\n",
    "print(f\"{all_predictions = }\")\n",
    "print(f\"{rmse_training = }\")\n",
    "print(f\"{rmse_test = }\")"
   ]
  },
  {
   "cell_type": "code",
   "execution_count": 8,
   "id": "5af6f25e",
   "metadata": {},
   "outputs": [
    {
     "name": "stdout",
     "output_type": "stream",
     "text": [
      "test_predictions = array([5.        , 3.37752525, 2.34823468, 1.        , 4.30218855,\n",
      "       4.96604771, 1.16377497, 3.64015152, 4.24705387, 4.86694105])\n",
      "all_predictions = array([[5.        , 3.98947811, 3.98947811, 3.30046397, 5.        ],\n",
      "       [5.        , 2.58459596, 4.85927655, 3.37752525, 4.10858586],\n",
      "       [4.81355219, 2.18644781, 4.44934389, 2.34823468, 2.81355219],\n",
      "       [2.86694105, 1.        , 2.71212121, 1.28787879, 1.71212121],\n",
      "       [4.45700839, 2.57112795, 4.30218855, 4.48779461, 5.        ],\n",
      "       [4.96604771, 3.51557239, 4.47311398, 3.51557239, 4.48442761],\n",
      "       [2.96927609, 1.16377497, 3.03072391, 1.96927609, 2.83495163],\n",
      "       [4.2790404 , 3.64015152, 4.16414141, 3.34974747, 4.76910407],\n",
      "       [4.24705387, 2.44155275, 5.        , 4.33038721, 4.06144781],\n",
      "       [4.86694105, 2.55537792, 4.71212121, 3.28787879, 3.71212121]])\n"
     ]
    }
   ],
   "source": [
    "from predictors.neighbor_correlations import Correlation, NeighborCorrelationsPredictor\n",
    "from utils.neighbor_selection import two_most_similar_skip_masked\n",
    "\n",
    "\n",
    "improved = NeighborCorrelationsPredictor(baseline=baseline, correlation=Correlation.ITEM)\n",
    "test_predictions = improved.predict(sample_test_set, two_most_similar_skip_masked)\n",
    "all_predictions = improved.predict_all(two_most_similar_skip_masked)\n",
    "print(f\"{test_predictions = }\")\n",
    "print(f\"{all_predictions = }\")"
   ]
  }
 ],
 "metadata": {
  "kernelspec": {
   "display_name": ".venv",
   "language": "python",
   "name": "python3"
  },
  "language_info": {
   "codemirror_mode": {
    "name": "ipython",
    "version": 3
   },
   "file_extension": ".py",
   "mimetype": "text/x-python",
   "name": "python",
   "nbconvert_exporter": "python",
   "pygments_lexer": "ipython3",
   "version": "3.12.3"
  }
 },
 "nbformat": 4,
 "nbformat_minor": 5
}
