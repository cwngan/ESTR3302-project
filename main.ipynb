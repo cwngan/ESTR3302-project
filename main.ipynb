{
 "cells": [
  {
   "cell_type": "code",
   "execution_count": 1,
   "id": "bb430770",
   "metadata": {},
   "outputs": [],
   "source": [
    "sample_user_ratings = [\n",
    "    [5, 4, 5, 3, 3],\n",
    "    [3, 2, 2, 4, 1],\n",
    "    [3, 4, 3, 5, 4],\n",
    "    [5, 1, 4, 2, 4],\n",
    "    [2, 3, 4, 1, 1],\n",
    "    [2, 3, 4, 2, 5],\n",
    "]\n",
    "\n",
    "sample_test_set = [\n",
    "    (0, 0),\n",
    "    (0, 3),\n",
    "    (1, 1),\n",
    "    (1, 4),\n",
    "    (2, 0),\n",
    "    (2, 4),\n",
    "    (3, 2),\n",
    "    (4, 1),\n",
    "    (4, 3),\n",
    "    (5, 0),\n",
    "]"
   ]
  },
  {
   "cell_type": "code",
   "execution_count": 2,
   "id": "d794450f",
   "metadata": {},
   "outputs": [],
   "source": [
    "sample_user_ratings = [\n",
    "    [5, 4, 4, -1, 5],\n",
    "    [-1, 3, 5, 3, 4],\n",
    "    [5, 2, -1, 2, 3],\n",
    "    [-1, 2, 3, 1, 2],\n",
    "    [4, -1, 5, 4, 5],\n",
    "    [5, 3, -1, 3, 5],\n",
    "    [3, 2, 3, 2, -1],\n",
    "    [5, 3, 4, -1, 5],\n",
    "    [4, 2, 5, 4, -1],\n",
    "    [5, -1, 5, 3, 4]\n",
    "]\n",
    "sample_test_set = [(0, 4), (1, 3), (2, 3), (3, 1), (4, 2),\n",
    "                   (5, 0), (6, 1), (7, 1), (8, 0), (9, 0)]"
   ]
  },
  {
   "cell_type": "code",
   "execution_count": 3,
   "id": "0fa88af9",
   "metadata": {},
   "outputs": [
    {
     "name": "stdout",
     "output_type": "stream",
     "text": [
      "test_predictions = array([4.61784512, 3.48611111, 2.78114478, 1.        , 4.78998316,\n",
      "       4.87710438, 1.22895623, 2.91919192, 4.78451178, 4.60984848])\n",
      "all_predictions = array([[5.        , 3.09385522, 4.8956229 , 3.68855219, 4.61784512],\n",
      "       [4.80808081, 2.89141414, 4.69318182, 3.48611111, 4.41540404],\n",
      "       [4.10311448, 2.18644781, 3.98821549, 2.78114478, 3.71043771],\n",
      "       [2.60984848, 1.        , 2.49494949, 1.28787879, 2.21717172],\n",
      "       [4.90488215, 2.98821549, 4.78998316, 3.58291246, 4.51220539],\n",
      "       [4.87710438, 2.96043771, 4.76220539, 3.55513468, 4.48442761],\n",
      "       [3.1456229 , 1.22895623, 3.03072391, 1.8236532 , 2.75294613],\n",
      "       [4.83585859, 2.91919192, 4.7209596 , 3.51388889, 4.44318182],\n",
      "       [4.78451178, 2.86784512, 4.66961279, 3.46254209, 4.39183502],\n",
      "       [4.60984848, 2.69318182, 4.49494949, 3.28787879, 4.21717172]])\n",
      "rmse_training = np.float64(0.5126176872466319)\n",
      "rmse_test = np.float64(0.5848469310964863)\n"
     ]
    }
   ],
   "source": [
    "from predictors.least_squares import LeastSquaresPredictor\n",
    "from utils import get_test_set_matrix, remove_test_set, root_mean_square_error\n",
    "\n",
    "\n",
    "training_data = remove_test_set(sample_user_ratings, sample_test_set)\n",
    "test_data = get_test_set_matrix(sample_user_ratings, sample_test_set)\n",
    "baseline = LeastSquaresPredictor(training_data=training_data, lmda=0)\n",
    "baseline.train()\n",
    "test_predictions = baseline.predict(sample_test_set)\n",
    "all_predictions = baseline.predict_all()\n",
    "rmse_training = root_mean_square_error(all_predictions, training_data)\n",
    "rmse_test = root_mean_square_error(all_predictions, test_data)\n",
    "print(f\"{test_predictions = }\")\n",
    "print(f\"{all_predictions = }\")\n",
    "print(f\"{rmse_training = }\")\n",
    "print(f\"{rmse_test = }\")"
   ]
  },
  {
   "cell_type": "code",
   "execution_count": 4,
   "id": "5af6f25e",
   "metadata": {},
   "outputs": [
    {
     "name": "stdout",
     "output_type": "stream",
     "text": [
      "test_predictions = array([5.        , 3.37752525, 2.34823468, 1.        , 4.30218855,\n",
      "       4.96604771, 1.16377497, 3.64015152, 4.24705387, 4.86694105])\n",
      "all_predictions = array([[5.        , 3.98947811, 3.98947811, 3.30046397, 5.        ],\n",
      "       [5.        , 2.58459596, 4.85927655, 3.37752525, 4.10858586],\n",
      "       [4.81355219, 2.18644781, 4.44934389, 2.34823468, 2.81355219],\n",
      "       [2.86694105, 1.        , 2.71212121, 1.28787879, 1.71212121],\n",
      "       [4.45700839, 2.57112795, 4.30218855, 4.48779461, 5.        ],\n",
      "       [4.96604771, 3.51557239, 4.47311398, 3.51557239, 4.48442761],\n",
      "       [2.96927609, 1.16377497, 3.03072391, 1.96927609, 2.83495163],\n",
      "       [4.2790404 , 3.64015152, 4.16414141, 3.34974747, 4.76910407],\n",
      "       [4.24705387, 2.44155275, 5.        , 4.33038721, 4.06144781],\n",
      "       [4.86694105, 2.55537792, 4.71212121, 3.28787879, 3.71212121]])\n"
     ]
    }
   ],
   "source": [
    "import numpy as np\n",
    "from predictors.neighbor_correlations import Correlation, NeighborCorrelationsPredictor\n",
    "from utils.neighbor_selection import most_similar, two_most_similar_skip_masked\n",
    "\n",
    "# baseline.prediction = np.array(\n",
    "#     [\n",
    "#         [np.nan, 2.7, 3.3, np.nan, 4.5],\n",
    "#         [4.1, np.nan, 3.5, 4.9, np.nan],\n",
    "#         [np.nan, 3.8, 2.5, 4.2, np.nan],\n",
    "#         [2.8, 3.1, np.nan, 2.6, 4.8],\n",
    "#         [3.3, np.nan, 3.7, np.nan, 2.4],\n",
    "#         [np.nan, 3.9, 4.0, 1.5, 3.9],\n",
    "#     ]\n",
    "# )\n",
    "\n",
    "improved = NeighborCorrelationsPredictor(baseline=baseline, correlation=Correlation.ITEM)\n",
    "improved.train(two_most_similar_skip_masked)\n",
    "test_predictions = improved.predict(sample_test_set)\n",
    "all_predictions = improved.predict_all()\n",
    "print(f\"{test_predictions = }\")\n",
    "print(f\"{all_predictions = }\")"
   ]
  },
  {
   "cell_type": "code",
   "execution_count": 5,
   "id": "ddd8b26a",
   "metadata": {},
   "outputs": [
    {
     "name": "stdout",
     "output_type": "stream",
     "text": [
      "all_predictions = array([[2.73402602, 4.48879132, 4.30697551, 3.2186042 , 1.96912014,\n",
      "        2.81803155],\n",
      "       [2.83475932, 2.56022117, 2.90042499, 3.28621128, 2.69179878,\n",
      "        1.50348167],\n",
      "       [3.74631254, 3.7619743 , 4.11600953, 4.3521493 , 3.43987108,\n",
      "        2.24331636],\n",
      "       [3.38052349, 4.72745277, 4.71039242, 3.9596552 , 2.69019862,\n",
      "        2.9270728 ],\n",
      "       [2.17435686, 1.27615303, 1.71072411, 2.50389476, 2.27819342,\n",
      "        0.68744758],\n",
      "       [3.24193673, 4.89639618, 4.78844221, 3.80615816, 2.46728672,\n",
      "        3.05278956],\n",
      "       [2.65612574, 4.34602767, 4.1731457 , 3.12653497, 1.9176295 ,\n",
      "        2.7276686 ],\n",
      "       [1.77062656, 3.13429637, 2.95917071, 2.08998444, 1.20470111,\n",
      "        1.97895441]])\n",
      "latent.p = array([[ 0.88963584,  1.50009581,  1.87805526,  1.32698965,  1.34032657,\n",
      "         1.17251361,  0.86838852,  0.51346081],\n",
      "       [ 1.58503227,  0.41031614,  0.76514332,  1.47530906, -0.09021009,\n",
      "         1.62844766,  1.53111621,  1.16032704]])\n",
      "latent.q = array([[1.6750748 , 1.10113009, 1.40611625, 1.93181639, 1.71842827,\n",
      "        0.6095307 ],\n",
      "       [0.78472816, 2.21395275, 1.92806429, 0.94634736, 0.27781439,\n",
      "        1.43578856]])\n"
     ]
    }
   ],
   "source": [
    "import numpy as np\n",
    "from predictors.latent_factor import LatentFactorPredictor\n",
    "\n",
    "sample_user_ratings = [\n",
    "    [3, 4, 5, 3, 2, 3],\n",
    "    [3, 2, 3, 4, 2, 1],\n",
    "    [4, 4, 4, 5, 3, 2],\n",
    "    [3, 5, 4, 4, 3, 4],\n",
    "    [2, 1, 2, 2, 3, 1],\n",
    "    [3, 5, 5, 4, 4, 3],\n",
    "    [3, 5, 5, 3, 2, 2],\n",
    "    [2, 3, 3, 2, 1, 2],\n",
    "]\n",
    "sample_test_set = [\n",
    "    (0, 0),\n",
    "    (1, 1),\n",
    "    (2, 3),\n",
    "    (2, 4),\n",
    "    (3, 0),\n",
    "    (3, 1),\n",
    "    (5, 1),\n",
    "    (5, 4),\n",
    "    (6, 0),\n",
    "    (6, 2),\n",
    "    (7, 1),\n",
    "    (7, 3),\n",
    "]\n",
    "training_data = remove_test_set(sample_user_ratings, sample_test_set)\n",
    "test_data = get_test_set_matrix(sample_user_ratings, sample_test_set)\n",
    "u, i = training_data.shape\n",
    "k = 2\n",
    "latent = LatentFactorPredictor(\n",
    "    training_data=training_data,\n",
    "    k=k,\n",
    "    p=np.full((k, u), 1, dtype=np.float64),\n",
    "    q=np.full((k, i), 1, dtype=np.float64),\n",
    "    lmda=0.2,\n",
    ")\n",
    "latent.train(20)\n",
    "all_predictions = latent.predict_all()\n",
    "test_predictions = latent.predict(sample_test_set)\n",
    "print(f\"{all_predictions = }\")\n",
    "print(f\"{latent.p = }\")\n",
    "print(f\"{latent.q = }\")"
   ]
  },
  {
   "cell_type": "code",
   "execution_count": 6,
   "id": "9695964a",
   "metadata": {},
   "outputs": [
    {
     "name": "stdout",
     "output_type": "stream",
     "text": [
      "rmse_training = np.float64(0.41866703529954136)\n",
      "rmse_test = np.float64(0.6058658494466402)\n"
     ]
    }
   ],
   "source": [
    "rmse_training = root_mean_square_error(all_predictions, training_data)\n",
    "rmse_test = root_mean_square_error(all_predictions, test_data)\n",
    "print(f\"{rmse_training = }\")\n",
    "print(f\"{rmse_test = }\")"
   ]
  },
  {
   "cell_type": "code",
   "execution_count": 7,
   "id": "6f8aed17",
   "metadata": {},
   "outputs": [],
   "source": [
    "from samples import generate_sample_data\n",
    "\n",
    "np.savetxt('samples/tmp.txt', generate_sample_data(100, 100, 20), delimiter=',', fmt=\"%d\")"
   ]
  }
 ],
 "metadata": {
  "kernelspec": {
   "display_name": ".venv",
   "language": "python",
   "name": "python3"
  },
  "language_info": {
   "codemirror_mode": {
    "name": "ipython",
    "version": 3
   },
   "file_extension": ".py",
   "mimetype": "text/x-python",
   "name": "python",
   "nbconvert_exporter": "python",
   "pygments_lexer": "ipython3",
   "version": "3.12.3"
  }
 },
 "nbformat": 4,
 "nbformat_minor": 5
}
