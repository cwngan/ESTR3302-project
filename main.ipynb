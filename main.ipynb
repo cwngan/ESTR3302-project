{
 "cells": [
  {
   "cell_type": "markdown",
   "id": "86a0b0f1",
   "metadata": {},
   "source": [
    "## Sample Data Generation"
   ]
  },
  {
   "cell_type": "code",
   "execution_count": 1,
   "id": "6f8aed17",
   "metadata": {},
   "outputs": [],
   "source": [
    "from samples import generate_sample_data\n",
    "import json\n",
    "\n",
    "sample_data = generate_sample_data(1000, 1000, 200)\n",
    "with open(\"samples/data.json\", \"w\") as f:\n",
    "    json.dump(sample_data, f)"
   ]
  },
  {
   "cell_type": "code",
   "execution_count": 2,
   "id": "eff1a0fb",
   "metadata": {},
   "outputs": [],
   "source": [
    "import json\n",
    "from random import randrange\n",
    "with open(\"samples/data.json\", \"r\") as f:\n",
    "    sample_data = json.load(f)\n",
    "\n",
    "user_ratings = sample_data[\"ratings\"]\n",
    "test_set_size = int(len(user_ratings) * len(user_ratings[0]) * 0.2)\n",
    "test_set = [(randrange(0, len(user_ratings)), randrange(0, len(user_ratings[0]))) for _ in range(test_set_size)]"
   ]
  },
  {
   "cell_type": "code",
   "execution_count": 1,
   "id": "bb430770",
   "metadata": {},
   "outputs": [],
   "source": [
    "user_ratings = [\n",
    "    [5, 4, 5, 3, 3],\n",
    "    [3, 2, 2, 4, 1],\n",
    "    [3, 4, 3, 5, 4],\n",
    "    [5, 1, 4, 2, 4],\n",
    "    [2, 3, 4, 1, 1],\n",
    "    [2, 3, 4, 2, 5],\n",
    "]\n",
    "\n",
    "test_set = [\n",
    "    (0, 0),\n",
    "    (0, 3),\n",
    "    (1, 1),\n",
    "    (1, 4),\n",
    "    (2, 0),\n",
    "    (2, 4),\n",
    "    (3, 2),\n",
    "    (4, 1),\n",
    "    (4, 3),\n",
    "    (5, 0),\n",
    "]"
   ]
  },
  {
   "cell_type": "code",
   "execution_count": 4,
   "id": "d794450f",
   "metadata": {},
   "outputs": [],
   "source": [
    "user_ratings = [\n",
    "    [5, 4, 4, -1, 5],\n",
    "    [-1, 3, 5, 3, 4],\n",
    "    [5, 2, -1, 2, 3],\n",
    "    [-1, 2, 3, 1, 2],\n",
    "    [4, -1, 5, 4, 5],\n",
    "    [5, 3, -1, 3, 5],\n",
    "    [3, 2, 3, 2, -1],\n",
    "    [5, 3, 4, -1, 5],\n",
    "    [4, 2, 5, 4, -1],\n",
    "    [5, -1, 5, 3, 4]\n",
    "]\n",
    "test_set = [(0, 4), (1, 3), (2, 3), (3, 1), (4, 2),\n",
    "                   (5, 0), (6, 1), (7, 1), (8, 0), (9, 0)]"
   ]
  },
  {
   "cell_type": "code",
   "execution_count": 15,
   "id": "609255c2",
   "metadata": {},
   "outputs": [],
   "source": [
    "import requests\n",
    "import zipfile\n",
    "import io\n",
    "\n",
    "# Download the zip file\n",
    "url = \"https://files.grouplens.org/datasets/movielens/ml-latest-small.zip\"\n",
    "response = requests.get(url)\n",
    "z = zipfile.ZipFile(io.BytesIO(response.content))\n",
    "\n",
    "# Unzip the dataset into a folder\n",
    "z.extractall(\"data/\")"
   ]
  },
  {
   "cell_type": "code",
   "execution_count": 2,
   "id": "e09abda3",
   "metadata": {},
   "outputs": [
    {
     "name": "stdout",
     "output_type": "stream",
     "text": [
      "User ratings table created with dimensions: 610 rows x 9724 columns\n"
     ]
    }
   ],
   "source": [
    "import pandas as pd\n",
    "from random import sample\n",
    "\n",
    "# Read the ratings CSV\n",
    "ratings_df = pd.read_csv(\"data/ml-latest-small/ratings.csv\")\n",
    "\n",
    "# Convert the CSV into a user ratings table\n",
    "# Create a dense matrix where each row represents a user and each column a movie.\n",
    "# Missing ratings are filled with 0.\n",
    "ratings_pivot = ratings_df.pivot(index='userId', columns='movieId', values='rating').fillna(-1)\n",
    "user_ratings = ratings_pivot.values.tolist()\n",
    "\n",
    "print(\"User ratings table created with dimensions:\",\n",
    "  len(user_ratings), \"rows x\", len(user_ratings[0]) if user_ratings else 0, \"columns\")\n",
    "\n",
    "# Get all indices with an existing (non -1) rating\n",
    "valid_entries = [(i, j) for i in range(len(user_ratings))\n",
    "         for j in range(len(user_ratings[i])) if user_ratings[i][j] != -1]\n",
    "test_set_size = int(len(valid_entries) * 0.2)\n",
    "\n",
    "# Randomly select test_set_size indices from the valid entries\n",
    "test_set = sample(valid_entries, min(test_set_size, len(valid_entries)))"
   ]
  },
  {
   "cell_type": "markdown",
   "id": "312d3cb7",
   "metadata": {},
   "source": [
    "## Least Squares Optimiation Predictor (Baseline)"
   ]
  },
  {
   "cell_type": "code",
   "execution_count": 3,
   "id": "0fa88af9",
   "metadata": {},
   "outputs": [
    {
     "name": "stdout",
     "output_type": "stream",
     "text": [
      "Constructing relevant matrices...\n",
      "Calculating user and item biases...\n"
     ]
    },
    {
     "name": "stderr",
     "output_type": "stream",
     "text": [
      "/Users/matthewngan/ESTR3302-project/predictors/least_squares.py:85: SparseEfficiencyWarning: spsolve requires A be CSC or CSR matrix format\n",
      "  self.b = spsolve(AAT, rhs)\n"
     ]
    },
    {
     "name": "stdout",
     "output_type": "stream",
     "text": [
      "Training done.\n",
      "[ 0.72214951 -0.03266515 -1.64916279 ... -0.01992345 -0.01992345\n",
      "  0.        ]\n",
      "Predicting entries...\n"
     ]
    },
    {
     "name": "stderr",
     "output_type": "stream",
     "text": [
      "100%|██████████| 20167/20167 [00:00<00:00, 1743225.46it/s]\n"
     ]
    },
    {
     "name": "stdout",
     "output_type": "stream",
     "text": [
      "Finished predicting entries.\n",
      "Predicting all...\n"
     ]
    },
    {
     "name": "stderr",
     "output_type": "stream",
     "text": [
      "100%|██████████| 610/610 [00:01<00:00, 305.90it/s]\n"
     ]
    },
    {
     "name": "stdout",
     "output_type": "stream",
     "text": [
      "Finished predicting all.\n",
      "test_predictions = array([2.13617428, 2.87920618, 4.30863644, ..., 3.90042121, 3.26603948,\n",
      "       3.73401233], shape=(20167,))\n",
      "all_predictions = array([[4.68351995, 4.30024199, 3.8850486 , ..., 4.20060214, 4.20060214,\n",
      "        4.22052559],\n",
      "       [3.92870529, 3.54542733, 3.13023395, ..., 3.44578749, 3.44578749,\n",
      "        3.46571093],\n",
      "       [2.31220765, 1.92892969, 1.51373631, ..., 1.82928985, 1.82928985,\n",
      "        1.84921329],\n",
      "       ...,\n",
      "       [3.64523163, 3.26195367, 2.84676028, ..., 3.16231382, 3.16231382,\n",
      "        3.18223727],\n",
      "       [3.57322219, 3.18994423, 2.77475085, ..., 3.09030439, 3.09030439,\n",
      "        3.11022783],\n",
      "       [4.07563719, 3.69235923, 3.27716585, ..., 3.59271939, 3.59271939,\n",
      "        3.61264283]], shape=(610, 9724))\n",
      "rmse_training = np.float64(0.7840059420212793)\n",
      "rmse_test = np.float64(0.8625055414499949)\n"
     ]
    }
   ],
   "source": [
    "from predictors.least_squares import LeastSquaresPredictor\n",
    "from utils import get_test_set_matrix, remove_test_set, root_mean_square_error, root_mean_square_error_entries\n",
    "\n",
    "\n",
    "training_data = remove_test_set(user_ratings, test_set)\n",
    "test_data = get_test_set_matrix(user_ratings, test_set)\n",
    "baseline = LeastSquaresPredictor(training_data=training_data, lmda=0.5)\n",
    "baseline.train()\n",
    "print(baseline.b)\n",
    "test_predictions = baseline.predict(test_set)\n",
    "all_predictions = baseline.predict_all()\n",
    "print(f\"{test_predictions = }\")\n",
    "print(f\"{all_predictions = }\")\n",
    "rmse_training = root_mean_square_error(all_predictions, training_data)\n",
    "rmse_test = root_mean_square_error_entries(test_predictions, test_set, test_data)\n",
    "print(f\"{rmse_training = }\")\n",
    "print(f\"{rmse_test = }\")"
   ]
  },
  {
   "cell_type": "markdown",
   "id": "4342f4b1",
   "metadata": {},
   "source": [
    "## Neighbor Correlations Predictor (based on Least Sqaures Optimization) (Improved)"
   ]
  },
  {
   "cell_type": "code",
   "execution_count": 4,
   "id": "5af6f25e",
   "metadata": {},
   "outputs": [
    {
     "name": "stdout",
     "output_type": "stream",
     "text": [
      "Calculating cosine similarity coefficients...\n",
      "Making neighbor table...\n"
     ]
    },
    {
     "name": "stderr",
     "output_type": "stream",
     "text": [
      "100%|██████████| 9724/9724 [00:19<00:00, 494.20it/s]\n"
     ]
    },
    {
     "name": "stdout",
     "output_type": "stream",
     "text": [
      "Finished training.\n",
      "Predicting entries...\n"
     ]
    },
    {
     "name": "stderr",
     "output_type": "stream",
     "text": [
      "  0%|          | 0/20167 [00:00<?, ?it/s]/Users/matthewngan/ESTR3302-project/predictors/neighbor_correlations.py:133: UserWarning: Warning: converting a masked element to nan.\n",
      "  result[idx] += self.cosine_coefficients[i][j] / d_sum * error[u][j]\n",
      "100%|██████████| 20167/20167 [00:01<00:00, 16361.15it/s]\n"
     ]
    },
    {
     "name": "stdout",
     "output_type": "stream",
     "text": [
      "Finished predicting entries.\n",
      "Predicting all...\n"
     ]
    },
    {
     "name": "stderr",
     "output_type": "stream",
     "text": [
      "  0%|          | 30/9724 [00:00<01:44, 92.93it/s]/Users/matthewngan/ESTR3302-project/predictors/neighbor_correlations.py:176: UserWarning: Warning: converting a masked element to nan.\n",
      "  result[u][i] += (\n",
      "100%|██████████| 9724/9724 [03:05<00:00, 52.37it/s]\n"
     ]
    },
    {
     "name": "stdout",
     "output_type": "stream",
     "text": [
      "Finished predicting all.\n",
      "test_predictions = array([3.16605987, 4.01064942, 5.        , ..., 3.6392779 , 3.3685562 ,\n",
      "       3.96203816], shape=(20167,))\n",
      "all_predictions = array([[4.32168064, 3.96410379, 3.09015887, ...,        nan,        nan,\n",
      "               nan],\n",
      "       [4.46083327, 3.37709213, 3.49893619, ...,        nan,        nan,\n",
      "               nan],\n",
      "       [2.42861043, 1.84802949, 1.        , ...,        nan,        nan,\n",
      "               nan],\n",
      "       ...,\n",
      "       [2.74954562, 3.13644934, 2.29970926, ...,        nan,        nan,\n",
      "               nan],\n",
      "       [3.21138288, 2.05000198, 3.569707  , ...,        nan,        nan,\n",
      "               nan],\n",
      "       [4.58947713, 3.41321729, 2.98726576, ...,        nan,        nan,\n",
      "               nan]], shape=(610, 9724))\n"
     ]
    }
   ],
   "source": [
    "import numpy as np\n",
    "from predictors.neighbor_correlations import Correlation, NeighborCorrelationsPredictor\n",
    "from utils.neighbor_selection import most_similar, two_most_similar_skip_masked, two_most_similar\n",
    "\n",
    "# baseline.predict_all = lambda quiet=False: np.array(\n",
    "#     [\n",
    "#         [np.nan, 2.7, 3.3, np.nan, 4.5],\n",
    "#         [4.1, np.nan, 3.5, 4.9, np.nan],\n",
    "#         [np.nan, 3.8, 2.5, 4.2, np.nan],\n",
    "#         [2.8, 3.1, np.nan, 2.6, 4.8],\n",
    "#         [3.3, np.nan, 3.7, np.nan, 2.4],\n",
    "#         [np.nan, 3.9, 4.0, 1.5, 3.9],\n",
    "#     ]\n",
    "# )\n",
    "\n",
    "improved = NeighborCorrelationsPredictor(baseline=baseline, correlation=Correlation.USER)\n",
    "improved.train(two_most_similar)\n",
    "test_predictions = improved.predict(test_set)\n",
    "all_predictions = improved.predict_all()\n",
    "print(f\"{test_predictions = }\")\n",
    "print(f\"{all_predictions = }\")"
   ]
  },
  {
   "cell_type": "markdown",
   "id": "efad0bce",
   "metadata": {},
   "source": [
    "## Latent Factor Predictor"
   ]
  },
  {
   "cell_type": "code",
   "execution_count": 9,
   "id": "fa0d9647",
   "metadata": {},
   "outputs": [],
   "source": [
    "user_ratings = [\n",
    "    [3, 4, 5, 3, 2, 3],\n",
    "    [3, 2, 3, 4, 2, 1],\n",
    "    [4, 4, 4, 5, 3, 2],\n",
    "    [3, 5, 4, 4, 3, 4],\n",
    "    [2, 1, 2, 2, 3, 1],\n",
    "    [3, 5, 5, 4, 4, 3],\n",
    "    [3, 5, 5, 3, 2, 2],\n",
    "    [2, 3, 3, 2, 1, 2],\n",
    "]\n",
    "test_set = [\n",
    "    (0, 0),\n",
    "    (1, 1),\n",
    "    (2, 3),\n",
    "    (2, 4),\n",
    "    (3, 0),\n",
    "    (3, 1),\n",
    "    (5, 1),\n",
    "    (5, 4),\n",
    "    (6, 0),\n",
    "    (6, 2),\n",
    "    (7, 1),\n",
    "    (7, 3),\n",
    "]"
   ]
  },
  {
   "cell_type": "code",
   "execution_count": null,
   "id": "ddd8b26a",
   "metadata": {},
   "outputs": [
    {
     "name": "stdout",
     "output_type": "stream",
     "text": [
      "latent.p = array([[1., 1., 1., ..., 1., 1., 1.],\n",
      "       [1., 1., 1., ..., 1., 1., 1.]], shape=(2, 610))\n",
      "latent.q = array([[1., 1., 1., ..., 1., 1., 1.],\n",
      "       [1., 1., 1., ..., 1., 1., 1.]], shape=(2, 9724))\n"
     ]
    }
   ],
   "source": [
    "import numpy as np\n",
    "from predictors.latent_factor import LatentFactorPredictor\n",
    "from utils import get_test_set_matrix, remove_test_set\n",
    "\n",
    "training_data = remove_test_set(user_ratings, test_set)\n",
    "test_data = get_test_set_matrix(user_ratings, test_set)\n",
    "u, i = training_data.shape\n",
    "k = 2\n",
    "latent = LatentFactorPredictor(\n",
    "    training_data=training_data,\n",
    "    k=k,\n",
    "    p=np.ones(shape=(k,u), dtype=np.float64),\n",
    "    q=np.ones(shape=(k,i), dtype=np.float64),\n",
    "    lmda=0.5,\n",
    ")\n",
    "print(f\"{latent.p = }\")\n",
    "print(f\"{latent.q = }\")\n",
    "t = 0"
   ]
  },
  {
   "cell_type": "code",
   "execution_count": 58,
   "id": "5b832b3d",
   "metadata": {},
   "outputs": [
    {
     "name": "stdout",
     "output_type": "stream",
     "text": [
      "Preparing data for training...\n",
      "Performing alternating least squares...\n"
     ]
    },
    {
     "name": "stderr",
     "output_type": "stream",
     "text": [
      "100%|██████████| 20/20 [00:05<00:00,  3.37it/s]"
     ]
    },
    {
     "name": "stdout",
     "output_type": "stream",
     "text": [
      "Finished training.\n",
      "Total: 50 iterations\n"
     ]
    },
    {
     "name": "stderr",
     "output_type": "stream",
     "text": [
      "\n"
     ]
    }
   ],
   "source": [
    "latent.train(20)\n",
    "t += 20\n",
    "print(f\"Total: {t} iterations\")"
   ]
  },
  {
   "cell_type": "code",
   "execution_count": 59,
   "id": "0d91660d",
   "metadata": {},
   "outputs": [
    {
     "name": "stdout",
     "output_type": "stream",
     "text": [
      "Predicting all...\n"
     ]
    },
    {
     "name": "stderr",
     "output_type": "stream",
     "text": [
      "100%|██████████| 610/610 [01:26<00:00,  7.04it/s]\n"
     ]
    },
    {
     "name": "stdout",
     "output_type": "stream",
     "text": [
      "Finished predicting all.\n",
      "Predicting entries...\n"
     ]
    },
    {
     "name": "stderr",
     "output_type": "stream",
     "text": [
      "100%|██████████| 20167/20167 [00:00<00:00, 189201.56it/s]"
     ]
    },
    {
     "name": "stdout",
     "output_type": "stream",
     "text": [
      "Finished predicting entries.\n",
      "all_predictions = array([[ 4.80416546,  4.28099755,  3.82643674, ...,  1.67528032,\n",
      "         1.67528032,  3.91038507],\n",
      "       [ 3.98287644,  3.64771165,  3.25778744, ...,  0.05685052,\n",
      "         0.05685052,  3.26882145],\n",
      "       [ 1.8234691 ,  1.84229546,  1.64092992, ..., -2.30211272,\n",
      "        -2.30211272,  1.54362462],\n",
      "       ...,\n",
      "       [ 3.73422912,  3.36201765,  3.00412435, ...,  0.83672787,\n",
      "         0.83672787,  3.04891295],\n",
      "       [ 3.52748774,  3.15165375,  2.81678823, ...,  1.11784635,\n",
      "         1.11784635,  2.87349323],\n",
      "       [ 4.21779697,  3.66341197,  3.27694102, ...,  2.75562431,\n",
      "         2.75562431,  3.40713031]], shape=(610, 9724))\n",
      "test_predictions = array([3.28590933, 3.99862446, 4.12939798, ..., 3.88483389, 3.17121486,\n",
      "       3.77733723], shape=(20167,))\n",
      "latent.p = array([[ 1.55849765e+00,  2.71055468e+00,  3.72020919e+00, ...,\n",
      "         1.70706408e+00,  1.26385942e+00,  6.90071853e-05],\n",
      "       [ 2.35188742e+00,  5.58266770e-01, -2.17658457e+00, ...,\n",
      "         1.34184887e+00,  1.60963381e+00,  3.40706130e+00]],\n",
      "      shape=(2, 610))\n",
      "latent.q = array([[ 1.21443028,  1.1242913 ,  1.00379934, ..., -0.14560716,\n",
      "        -0.14560716,  1.        ],\n",
      "       [ 1.23793287,  1.07521822,  0.96178831, ...,  0.80880093,\n",
      "         0.80880093,  1.        ]], shape=(2, 9724))\n"
     ]
    },
    {
     "name": "stderr",
     "output_type": "stream",
     "text": [
      "\n"
     ]
    }
   ],
   "source": [
    "all_predictions = latent.predict_all()\n",
    "test_predictions = latent.predict(test_set)\n",
    "print(f\"{all_predictions = }\")\n",
    "print(f\"{test_predictions = }\")\n",
    "print(f\"{latent.p = }\")\n",
    "print(f\"{latent.q = }\")"
   ]
  },
  {
   "cell_type": "code",
   "execution_count": 60,
   "id": "9695964a",
   "metadata": {},
   "outputs": [
    {
     "name": "stdout",
     "output_type": "stream",
     "text": [
      "rmse_training = np.float64(0.7179494373525677)\n",
      "rmse_test = np.float64(0.9718108515217198)\n"
     ]
    }
   ],
   "source": [
    "from utils import root_mean_square_error_entries, root_mean_square_error\n",
    "\n",
    "rmse_training = root_mean_square_error(all_predictions, training_data)\n",
    "rmse_test = root_mean_square_error_entries(test_predictions, test_set, test_data)\n",
    "print(f\"{rmse_training = }\")\n",
    "print(f\"{rmse_test = }\")"
   ]
  }
 ],
 "metadata": {
  "kernelspec": {
   "display_name": ".venv",
   "language": "python",
   "name": "python3"
  },
  "language_info": {
   "codemirror_mode": {
    "name": "ipython",
    "version": 3
   },
   "file_extension": ".py",
   "mimetype": "text/x-python",
   "name": "python",
   "nbconvert_exporter": "python",
   "pygments_lexer": "ipython3",
   "version": "3.12.3"
  }
 },
 "nbformat": 4,
 "nbformat_minor": 5
}
